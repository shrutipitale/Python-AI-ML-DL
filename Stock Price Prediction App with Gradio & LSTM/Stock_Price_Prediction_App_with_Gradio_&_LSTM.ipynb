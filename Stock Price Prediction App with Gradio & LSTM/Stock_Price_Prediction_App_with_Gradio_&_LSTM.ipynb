{
  "nbformat": 4,
  "nbformat_minor": 0,
  "metadata": {
    "colab": {
      "provenance": []
    },
    "kernelspec": {
      "name": "python3",
      "display_name": "Python 3"
    },
    "language_info": {
      "name": "python"
    }
  },
  "cells": [
    {
      "cell_type": "code",
      "source": [
        "!pip install gradio"
      ],
      "metadata": {
        "colab": {
          "base_uri": "https://localhost:8080/"
        },
        "id": "wHUJ-YMyO4qE",
        "outputId": "91fb681f-0327-46de-c612-3e601ba01804"
      },
      "execution_count": 29,
      "outputs": [
        {
          "output_type": "stream",
          "name": "stdout",
          "text": [
            "Requirement already satisfied: gradio in /usr/local/lib/python3.11/dist-packages (5.25.1)\n",
            "Requirement already satisfied: aiofiles<25.0,>=22.0 in /usr/local/lib/python3.11/dist-packages (from gradio) (24.1.0)\n",
            "Requirement already satisfied: anyio<5.0,>=3.0 in /usr/local/lib/python3.11/dist-packages (from gradio) (4.9.0)\n",
            "Requirement already satisfied: fastapi<1.0,>=0.115.2 in /usr/local/lib/python3.11/dist-packages (from gradio) (0.115.12)\n",
            "Requirement already satisfied: ffmpy in /usr/local/lib/python3.11/dist-packages (from gradio) (0.5.0)\n",
            "Requirement already satisfied: gradio-client==1.8.0 in /usr/local/lib/python3.11/dist-packages (from gradio) (1.8.0)\n",
            "Requirement already satisfied: groovy~=0.1 in /usr/local/lib/python3.11/dist-packages (from gradio) (0.1.2)\n",
            "Requirement already satisfied: httpx>=0.24.1 in /usr/local/lib/python3.11/dist-packages (from gradio) (0.28.1)\n",
            "Requirement already satisfied: huggingface-hub>=0.28.1 in /usr/local/lib/python3.11/dist-packages (from gradio) (0.30.2)\n",
            "Requirement already satisfied: jinja2<4.0 in /usr/local/lib/python3.11/dist-packages (from gradio) (3.1.6)\n",
            "Requirement already satisfied: markupsafe<4.0,>=2.0 in /usr/local/lib/python3.11/dist-packages (from gradio) (3.0.2)\n",
            "Requirement already satisfied: numpy<3.0,>=1.0 in /usr/local/lib/python3.11/dist-packages (from gradio) (2.0.2)\n",
            "Requirement already satisfied: orjson~=3.0 in /usr/local/lib/python3.11/dist-packages (from gradio) (3.10.16)\n",
            "Requirement already satisfied: packaging in /usr/local/lib/python3.11/dist-packages (from gradio) (24.2)\n",
            "Requirement already satisfied: pandas<3.0,>=1.0 in /usr/local/lib/python3.11/dist-packages (from gradio) (2.2.2)\n",
            "Requirement already satisfied: pillow<12.0,>=8.0 in /usr/local/lib/python3.11/dist-packages (from gradio) (11.1.0)\n",
            "Requirement already satisfied: pydantic<2.12,>=2.0 in /usr/local/lib/python3.11/dist-packages (from gradio) (2.11.3)\n",
            "Requirement already satisfied: pydub in /usr/local/lib/python3.11/dist-packages (from gradio) (0.25.1)\n",
            "Requirement already satisfied: python-multipart>=0.0.18 in /usr/local/lib/python3.11/dist-packages (from gradio) (0.0.20)\n",
            "Requirement already satisfied: pyyaml<7.0,>=5.0 in /usr/local/lib/python3.11/dist-packages (from gradio) (6.0.2)\n",
            "Requirement already satisfied: ruff>=0.9.3 in /usr/local/lib/python3.11/dist-packages (from gradio) (0.11.5)\n",
            "Requirement already satisfied: safehttpx<0.2.0,>=0.1.6 in /usr/local/lib/python3.11/dist-packages (from gradio) (0.1.6)\n",
            "Requirement already satisfied: semantic-version~=2.0 in /usr/local/lib/python3.11/dist-packages (from gradio) (2.10.0)\n",
            "Requirement already satisfied: starlette<1.0,>=0.40.0 in /usr/local/lib/python3.11/dist-packages (from gradio) (0.46.2)\n",
            "Requirement already satisfied: tomlkit<0.14.0,>=0.12.0 in /usr/local/lib/python3.11/dist-packages (from gradio) (0.13.2)\n",
            "Requirement already satisfied: typer<1.0,>=0.12 in /usr/local/lib/python3.11/dist-packages (from gradio) (0.15.2)\n",
            "Requirement already satisfied: typing-extensions~=4.0 in /usr/local/lib/python3.11/dist-packages (from gradio) (4.13.1)\n",
            "Requirement already satisfied: uvicorn>=0.14.0 in /usr/local/lib/python3.11/dist-packages (from gradio) (0.34.1)\n",
            "Requirement already satisfied: fsspec in /usr/local/lib/python3.11/dist-packages (from gradio-client==1.8.0->gradio) (2025.3.2)\n",
            "Requirement already satisfied: websockets<16.0,>=10.0 in /usr/local/lib/python3.11/dist-packages (from gradio-client==1.8.0->gradio) (15.0.1)\n",
            "Requirement already satisfied: idna>=2.8 in /usr/local/lib/python3.11/dist-packages (from anyio<5.0,>=3.0->gradio) (3.10)\n",
            "Requirement already satisfied: sniffio>=1.1 in /usr/local/lib/python3.11/dist-packages (from anyio<5.0,>=3.0->gradio) (1.3.1)\n",
            "Requirement already satisfied: certifi in /usr/local/lib/python3.11/dist-packages (from httpx>=0.24.1->gradio) (2025.1.31)\n",
            "Requirement already satisfied: httpcore==1.* in /usr/local/lib/python3.11/dist-packages (from httpx>=0.24.1->gradio) (1.0.7)\n",
            "Requirement already satisfied: h11<0.15,>=0.13 in /usr/local/lib/python3.11/dist-packages (from httpcore==1.*->httpx>=0.24.1->gradio) (0.14.0)\n",
            "Requirement already satisfied: filelock in /usr/local/lib/python3.11/dist-packages (from huggingface-hub>=0.28.1->gradio) (3.18.0)\n",
            "Requirement already satisfied: requests in /usr/local/lib/python3.11/dist-packages (from huggingface-hub>=0.28.1->gradio) (2.32.3)\n",
            "Requirement already satisfied: tqdm>=4.42.1 in /usr/local/lib/python3.11/dist-packages (from huggingface-hub>=0.28.1->gradio) (4.67.1)\n",
            "Requirement already satisfied: python-dateutil>=2.8.2 in /usr/local/lib/python3.11/dist-packages (from pandas<3.0,>=1.0->gradio) (2.8.2)\n",
            "Requirement already satisfied: pytz>=2020.1 in /usr/local/lib/python3.11/dist-packages (from pandas<3.0,>=1.0->gradio) (2025.2)\n",
            "Requirement already satisfied: tzdata>=2022.7 in /usr/local/lib/python3.11/dist-packages (from pandas<3.0,>=1.0->gradio) (2025.2)\n",
            "Requirement already satisfied: annotated-types>=0.6.0 in /usr/local/lib/python3.11/dist-packages (from pydantic<2.12,>=2.0->gradio) (0.7.0)\n",
            "Requirement already satisfied: pydantic-core==2.33.1 in /usr/local/lib/python3.11/dist-packages (from pydantic<2.12,>=2.0->gradio) (2.33.1)\n",
            "Requirement already satisfied: typing-inspection>=0.4.0 in /usr/local/lib/python3.11/dist-packages (from pydantic<2.12,>=2.0->gradio) (0.4.0)\n",
            "Requirement already satisfied: click>=8.0.0 in /usr/local/lib/python3.11/dist-packages (from typer<1.0,>=0.12->gradio) (8.1.8)\n",
            "Requirement already satisfied: shellingham>=1.3.0 in /usr/local/lib/python3.11/dist-packages (from typer<1.0,>=0.12->gradio) (1.5.4)\n",
            "Requirement already satisfied: rich>=10.11.0 in /usr/local/lib/python3.11/dist-packages (from typer<1.0,>=0.12->gradio) (13.9.4)\n",
            "Requirement already satisfied: six>=1.5 in /usr/local/lib/python3.11/dist-packages (from python-dateutil>=2.8.2->pandas<3.0,>=1.0->gradio) (1.17.0)\n",
            "Requirement already satisfied: markdown-it-py>=2.2.0 in /usr/local/lib/python3.11/dist-packages (from rich>=10.11.0->typer<1.0,>=0.12->gradio) (3.0.0)\n",
            "Requirement already satisfied: pygments<3.0.0,>=2.13.0 in /usr/local/lib/python3.11/dist-packages (from rich>=10.11.0->typer<1.0,>=0.12->gradio) (2.18.0)\n",
            "Requirement already satisfied: charset-normalizer<4,>=2 in /usr/local/lib/python3.11/dist-packages (from requests->huggingface-hub>=0.28.1->gradio) (3.4.1)\n",
            "Requirement already satisfied: urllib3<3,>=1.21.1 in /usr/local/lib/python3.11/dist-packages (from requests->huggingface-hub>=0.28.1->gradio) (2.3.0)\n",
            "Requirement already satisfied: mdurl~=0.1 in /usr/local/lib/python3.11/dist-packages (from markdown-it-py>=2.2.0->rich>=10.11.0->typer<1.0,>=0.12->gradio) (0.1.2)\n"
          ]
        }
      ]
    },
    {
      "cell_type": "code",
      "execution_count": 30,
      "metadata": {
        "id": "BSjEVUb7OHiL"
      },
      "outputs": [],
      "source": [
        "import yfinance as yf\n",
        "import numpy as np\n",
        "import pandas as pd\n",
        "import gradio as gr\n",
        "from sklearn.preprocessing import MinMaxScaler\n",
        "from tensorflow.keras.models import Sequential\n",
        "from tensorflow.keras.layers import LSTM, Dense\n",
        "import matplotlib.pyplot as plt"
      ]
    },
    {
      "cell_type": "code",
      "source": [
        "# 1. Fetch stock data\n",
        "import yfinance as yf\n",
        "\n",
        "def get_stock_data(ticker, period='5y'):\n",
        "    data = yf.download(ticker, period=period)\n",
        "    print(f\"Top 5 rows of {ticker}:\")\n",
        "    print(data.head())\n",
        "    print(\"\\n\" + \"=\"*50 + \"\\n\")\n",
        "    return data[['Close']]\n",
        "\n",
        "stock_options = ['AAPL', 'MSFT', 'GOOGL', 'AMZN']\n",
        "stock_data = {}\n",
        "\n",
        "for stock in stock_options:\n",
        "    stock_data[stock] = get_stock_data(stock)"
      ],
      "metadata": {
        "colab": {
          "base_uri": "https://localhost:8080/"
        },
        "id": "kO1JSLbJOwXy",
        "outputId": "2f037fc3-6a6f-455f-d321-252f59970259"
      },
      "execution_count": 31,
      "outputs": [
        {
          "output_type": "stream",
          "name": "stderr",
          "text": [
            "[*********************100%***********************]  1 of 1 completed\n",
            "[*********************100%***********************]  1 of 1 completed\n"
          ]
        },
        {
          "output_type": "stream",
          "name": "stdout",
          "text": [
            "Top 5 rows of AAPL:\n",
            "Price           Close       High        Low       Open     Volume\n",
            "Ticker           AAPL       AAPL       AAPL       AAPL       AAPL\n",
            "Date                                                             \n",
            "2020-04-15  69.025200  69.486289  68.103022  68.532562  131154400\n",
            "2020-04-16  69.573647  69.940094  68.520421  69.741096  157125200\n",
            "2020-04-17  68.629623  69.636747  67.188109  69.088290  215250000\n",
            "2020-04-20  67.205101  68.357826  67.185690  67.452638  130015200\n",
            "2020-04-21  65.127769  67.282760  64.414293  67.047361  180991600\n",
            "\n",
            "==================================================\n",
            "\n",
            "Top 5 rows of MSFT:\n",
            "Price            Close        High         Low        Open    Volume\n",
            "Ticker            MSFT        MSFT        MSFT        MSFT      MSFT\n",
            "Date                                                                \n",
            "2020-04-15  164.519882  166.137517  161.992931  163.868993  40940800\n",
            "2020-04-16  169.458908  169.688636  165.496189  166.836248  50479600\n",
            "2020-04-17  170.952133  172.292178  168.339025  171.813588  52765600\n",
            "2020-04-20  167.563736  171.095728  167.496741  169.066514  36669600\n",
            "2020-04-21  160.633743  166.233230  158.996961  166.070512  56203700\n",
            "\n",
            "==================================================\n",
            "\n"
          ]
        },
        {
          "output_type": "stream",
          "name": "stderr",
          "text": [
            "[*********************100%***********************]  1 of 1 completed\n",
            "[*********************100%***********************]  1 of 1 completed"
          ]
        },
        {
          "output_type": "stream",
          "name": "stdout",
          "text": [
            "Top 5 rows of GOOGL:\n",
            "Price           Close       High        Low       Open    Volume\n",
            "Ticker          GOOGL      GOOGL      GOOGL      GOOGL     GOOGL\n",
            "Date                                                            \n",
            "2020-04-15  62.565876  63.452138  61.406418  62.028942  42236000\n",
            "2020-04-16  62.572342  63.365053  61.615419  63.055532  57896000\n",
            "2020-04-17  63.645714  64.193096  62.998805  63.780070  51050000\n",
            "2020-04-20  62.757462  63.537234  62.523082  63.192383  35292000\n",
            "2020-04-21  60.319614  62.202610  59.963316  61.839846  49648000\n",
            "\n",
            "==================================================\n",
            "\n",
            "Top 5 rows of AMZN:\n",
            "Price            Close        High         Low        Open     Volume\n",
            "Ticker            AMZN        AMZN        AMZN        AMZN       AMZN\n",
            "Date                                                                 \n",
            "2020-04-15  115.384003  116.668503  112.250000  112.884003  137332000\n",
            "2020-04-16  120.409500  123.050003  116.750000  117.300003  240764000\n",
            "2020-04-17  118.750000  120.000000  115.801003  118.616501  158600000\n",
            "2020-04-20  119.680496  122.249001  119.302498  119.497498  115414000\n",
            "2020-04-21  116.405998  121.415497  113.983002  120.830498  149534000\n",
            "\n",
            "==================================================\n",
            "\n"
          ]
        },
        {
          "output_type": "stream",
          "name": "stderr",
          "text": [
            "\n"
          ]
        }
      ]
    },
    {
      "cell_type": "code",
      "source": [
        "# 2. Preprocess data\n",
        "def preprocess_data(data):\n",
        "    scaler = MinMaxScaler(feature_range=(0, 1))\n",
        "    data_scaled = scaler.fit_transform(data)\n",
        "    return data_scaled, scaler"
      ],
      "metadata": {
        "id": "WW00g7AgPIPp"
      },
      "execution_count": 32,
      "outputs": []
    },
    {
      "cell_type": "code",
      "source": [
        "# 3. Create sequences\n",
        "def create_sequences(data, time_steps=60):\n",
        "    x, y = [], []\n",
        "    for i in range(len(data) - time_steps - 1):\n",
        "        x.append(data[i:(i + time_steps), 0])\n",
        "        y.append(data[i + time_steps, 0])\n",
        "    return np.array(x), np.array(y)"
      ],
      "metadata": {
        "id": "3fhKL270PLeP"
      },
      "execution_count": 33,
      "outputs": []
    },
    {
      "cell_type": "code",
      "source": [
        "# 4. Build LSTM model\n",
        "def build_lstm_model(input_shape):\n",
        "    model = Sequential([\n",
        "        LSTM(50, input_shape=input_shape, return_sequences=True),\n",
        "        LSTM(50, return_sequences=False),\n",
        "        Dense(25),\n",
        "        Dense(1)\n",
        "    ])\n",
        "    model.compile(optimizer='adam', loss='mean_squared_error')\n",
        "    return model"
      ],
      "metadata": {
        "id": "VGaPG6AxPPNE"
      },
      "execution_count": 34,
      "outputs": []
    },
    {
      "cell_type": "code",
      "source": [
        "# 5. Train the model\n",
        "def train_model(ticker):\n",
        "    data = get_stock_data(ticker)\n",
        "    data_scaled, scaler = preprocess_data(data)\n",
        "    x, y = create_sequences(data_scaled, time_steps=60)\n",
        "    x = x.reshape(x.shape[0], x.shape[1], 1)\n",
        "\n",
        "    model = build_lstm_model((x.shape[1], 1))\n",
        "    model.fit(x, y, epochs=10, batch_size=16, verbose=1)\n",
        "    return model, scaler, data"
      ],
      "metadata": {
        "id": "NCFefKxwPQYs"
      },
      "execution_count": 35,
      "outputs": []
    },
    {
      "cell_type": "code",
      "source": [
        "# 6. Predict future stock prices\n",
        "def predict_future(ticker, days=30):\n",
        "    model, scaler, data = train_model(ticker)\n",
        "    data_scaled, _ = preprocess_data(data)\n",
        "\n",
        "    last_60_days = data_scaled[-60:]\n",
        "    X_input = last_60_days.reshape(1, 60, 1)\n",
        "    predictions = []\n",
        "\n",
        "    for _ in range(days):\n",
        "        prediction = model.predict(X_input, verbose=0)[0][0]\n",
        "        predictions.append(prediction)\n",
        "        X_input = np.append(X_input[:, 1:, :], [[[prediction]]], axis=1)\n",
        "\n",
        "    predictions = scaler.inverse_transform(np.array(predictions).reshape(-1, 1))\n",
        "    return predictions.flatten()"
      ],
      "metadata": {
        "id": "zZNaX-9XPUkB"
      },
      "execution_count": 36,
      "outputs": []
    },
    {
      "cell_type": "code",
      "source": [
        "# 7. Plot predictions\n",
        "def plot_predictions(predictions):\n",
        "    plt.figure(figsize=(10, 4))\n",
        "    plt.plot(predictions, label='Predicted Price')\n",
        "    plt.xlabel('Days')\n",
        "    plt.ylabel('Stock Price')\n",
        "    plt.legend()\n",
        "    plt.tight_layout()\n",
        "    plt.savefig('predictions.png')\n",
        "    return 'predictions.png'"
      ],
      "metadata": {
        "id": "9F4Vo1wkPYvw"
      },
      "execution_count": 37,
      "outputs": []
    },
    {
      "cell_type": "code",
      "source": [
        "# 8. Gradio interface\n",
        "stock_options = ['AAPL', 'GOOGL', 'MSFT', 'TSLA', 'AMZN']\n",
        "\n",
        "def gradio_interface(ticker, days):\n",
        "    predictions = predict_future(ticker, days)\n",
        "    plot_path = plot_predictions(predictions)\n",
        "    return plot_path\n",
        "\n",
        "demo = gr.Interface(\n",
        "    fn=gradio_interface,\n",
        "    inputs=[\n",
        "        gr.Dropdown(choices=stock_options, label='Select Stock Ticker'),\n",
        "        gr.Slider(1, 30, step=1, label='Days to Predict')\n",
        "    ],\n",
        "    outputs=gr.Image(label='Predicted Stock Prices'),\n",
        "    title=\"Stock Price Prediction\",\n",
        "    description=\"Enter a stock ticker and the number of days to predict.\"\n",
        ")"
      ],
      "metadata": {
        "id": "2gDpWVBYPaOb"
      },
      "execution_count": 38,
      "outputs": []
    },
    {
      "cell_type": "code",
      "source": [
        "demo.launch(share=True)"
      ],
      "metadata": {
        "colab": {
          "base_uri": "https://localhost:8080/",
          "height": 613
        },
        "id": "PllwUiALPeck",
        "outputId": "914b2fb3-c6fa-43c8-ead7-be51ccf4a553"
      },
      "execution_count": 39,
      "outputs": [
        {
          "output_type": "stream",
          "name": "stdout",
          "text": [
            "Colab notebook detected. To show errors in colab notebook, set debug=True in launch()\n",
            "* Running on public URL: https://76d734945b836b35cc.gradio.live\n",
            "\n",
            "This share link expires in 1 week. For free permanent hosting and GPU upgrades, run `gradio deploy` from the terminal in the working directory to deploy to Hugging Face Spaces (https://huggingface.co/spaces)\n"
          ]
        },
        {
          "output_type": "display_data",
          "data": {
            "text/plain": [
              "<IPython.core.display.HTML object>"
            ],
            "text/html": [
              "<div><iframe src=\"https://76d734945b836b35cc.gradio.live\" width=\"100%\" height=\"500\" allow=\"autoplay; camera; microphone; clipboard-read; clipboard-write;\" frameborder=\"0\" allowfullscreen></iframe></div>"
            ]
          },
          "metadata": {}
        },
        {
          "output_type": "execute_result",
          "data": {
            "text/plain": []
          },
          "metadata": {},
          "execution_count": 39
        }
      ]
    }
  ]
}